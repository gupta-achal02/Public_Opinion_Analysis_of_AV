{
 "cells": [
  {
   "cell_type": "code",
   "execution_count": 1,
   "id": "73d18a58",
   "metadata": {},
   "outputs": [
    {
     "name": "stdout",
     "output_type": "stream",
     "text": [
      "Collecting git+https://github.com/woluxwolu/twint.git\n",
      "  Cloning https://github.com/woluxwolu/twint.git to c:\\users\\achal gupta\\appdata\\local\\temp\\pip-req-build-1qlw023s\n",
      "  Resolved https://github.com/woluxwolu/twint.git to commit b58ad94e7d2fac0f072ebe8be69363200e6cf00e\n",
      "  Preparing metadata (setup.py): started\n",
      "  Preparing metadata (setup.py): finished with status 'done'\n",
      "Requirement already satisfied: aiohttp in c:\\users\\achal gupta\\appdata\\local\\programs\\python\\python38\\lib\\site-packages (from twint==2.1.21) (3.8.1)\n",
      "Requirement already satisfied: aiodns in c:\\users\\achal gupta\\appdata\\local\\programs\\python\\python38\\lib\\site-packages (from twint==2.1.21) (3.0.0)"
     ]
    },
    {
     "name": "stderr",
     "output_type": "stream",
     "text": [
      "  Running command git clone --filter=blob:none --quiet https://github.com/woluxwolu/twint.git 'C:\\Users\\Achal Gupta\\AppData\\Local\\Temp\\pip-req-build-1qlw023s'\n"
     ]
    },
    {
     "name": "stdout",
     "output_type": "stream",
     "text": [
      "\n",
      "Requirement already satisfied: beautifulsoup4 in c:\\users\\achal gupta\\appdata\\local\\programs\\python\\python38\\lib\\site-packages (from twint==2.1.21) (4.10.0)\n",
      "Requirement already satisfied: cchardet in c:\\users\\achal gupta\\appdata\\local\\programs\\python\\python38\\lib\\site-packages (from twint==2.1.21) (2.1.7)\n",
      "Requirement already satisfied: dataclasses in c:\\users\\achal gupta\\appdata\\roaming\\python\\python38\\site-packages (from twint==2.1.21) (0.6)\n",
      "Requirement already satisfied: elasticsearch in c:\\users\\achal gupta\\appdata\\local\\programs\\python\\python38\\lib\\site-packages (from twint==2.1.21) (8.1.2)\n",
      "Requirement already satisfied: pysocks in c:\\users\\achal gupta\\appdata\\local\\programs\\python\\python38\\lib\\site-packages (from twint==2.1.21) (1.7.1)\n",
      "Requirement already satisfied: pandas in c:\\users\\achal gupta\\appdata\\local\\programs\\python\\python38\\lib\\site-packages (from twint==2.1.21) (1.4.0)\n",
      "Requirement already satisfied: aiohttp_socks in c:\\users\\achal gupta\\appdata\\local\\programs\\python\\python38\\lib\\site-packages (from twint==2.1.21) (0.7.1)\n",
      "Requirement already satisfied: schedule in c:\\users\\achal gupta\\appdata\\local\\programs\\python\\python38\\lib\\site-packages (from twint==2.1.21) (1.1.0)\n",
      "Requirement already satisfied: geopy in c:\\users\\achal gupta\\appdata\\local\\programs\\python\\python38\\lib\\site-packages (from twint==2.1.21) (2.2.0)\n",
      "Requirement already satisfied: fake-useragent in c:\\users\\achal gupta\\appdata\\local\\programs\\python\\python38\\lib\\site-packages (from twint==2.1.21) (0.1.11)\n",
      "Requirement already satisfied: googletransx in c:\\users\\achal gupta\\appdata\\local\\programs\\python\\python38\\lib\\site-packages (from twint==2.1.21) (2.4.2)\n",
      "Requirement already satisfied: pycares>=4.0.0 in c:\\users\\achal gupta\\appdata\\local\\programs\\python\\python38\\lib\\site-packages (from aiodns->twint==2.1.21) (4.1.2)\n",
      "Requirement already satisfied: multidict<7.0,>=4.5 in c:\\users\\achal gupta\\appdata\\local\\programs\\python\\python38\\lib\\site-packages (from aiohttp->twint==2.1.21) (6.0.2)\n",
      "Requirement already satisfied: frozenlist>=1.1.1 in c:\\users\\achal gupta\\appdata\\local\\programs\\python\\python38\\lib\\site-packages (from aiohttp->twint==2.1.21) (1.3.0)\n",
      "Requirement already satisfied: yarl<2.0,>=1.0 in c:\\users\\achal gupta\\appdata\\local\\programs\\python\\python38\\lib\\site-packages (from aiohttp->twint==2.1.21) (1.7.2)\n",
      "Requirement already satisfied: charset-normalizer<3.0,>=2.0 in c:\\users\\achal gupta\\appdata\\local\\programs\\python\\python38\\lib\\site-packages (from aiohttp->twint==2.1.21) (2.0.12)\n",
      "Requirement already satisfied: attrs>=17.3.0 in c:\\users\\achal gupta\\appdata\\local\\programs\\python\\python38\\lib\\site-packages (from aiohttp->twint==2.1.21) (21.4.0)\n",
      "Requirement already satisfied: aiosignal>=1.1.2 in c:\\users\\achal gupta\\appdata\\local\\programs\\python\\python38\\lib\\site-packages (from aiohttp->twint==2.1.21) (1.2.0)\n",
      "Requirement already satisfied: async-timeout<5.0,>=4.0.0a3 in c:\\users\\achal gupta\\appdata\\local\\programs\\python\\python38\\lib\\site-packages (from aiohttp->twint==2.1.21) (4.0.2)\n",
      "Requirement already satisfied: python-socks[asyncio]<3.0.0,>=2.0.0 in c:\\users\\achal gupta\\appdata\\local\\programs\\python\\python38\\lib\\site-packages (from aiohttp_socks->twint==2.1.21) (2.0.3)\n",
      "Requirement already satisfied: soupsieve>1.2 in c:\\users\\achal gupta\\appdata\\local\\programs\\python\\python38\\lib\\site-packages (from beautifulsoup4->twint==2.1.21) (2.3.1)\n",
      "Requirement already satisfied: elastic-transport<9,>=8 in c:\\users\\achal gupta\\appdata\\local\\programs\\python\\python38\\lib\\site-packages (from elasticsearch->twint==2.1.21) (8.1.1)\n",
      "Requirement already satisfied: geographiclib<2,>=1.49 in c:\\users\\achal gupta\\appdata\\local\\programs\\python\\python38\\lib\\site-packages (from geopy->twint==2.1.21) (1.52)\n",
      "Requirement already satisfied: requests in c:\\users\\achal gupta\\appdata\\local\\programs\\python\\python38\\lib\\site-packages (from googletransx->twint==2.1.21) (2.27.1)\n",
      "Requirement already satisfied: numpy>=1.18.5 in c:\\users\\achal gupta\\appdata\\local\\programs\\python\\python38\\lib\\site-packages (from pandas->twint==2.1.21) (1.22.1)\n",
      "Requirement already satisfied: pytz>=2020.1 in c:\\users\\achal gupta\\appdata\\local\\programs\\python\\python38\\lib\\site-packages (from pandas->twint==2.1.21) (2021.3)\n",
      "Requirement already satisfied: python-dateutil>=2.8.1 in c:\\users\\achal gupta\\appdata\\local\\programs\\python\\python38\\lib\\site-packages (from pandas->twint==2.1.21) (2.8.2)\n",
      "Requirement already satisfied: urllib3<2,>=1.26.2 in c:\\users\\achal gupta\\appdata\\local\\programs\\python\\python38\\lib\\site-packages (from elastic-transport<9,>=8->elasticsearch->twint==2.1.21) (1.26.9)\n",
      "Requirement already satisfied: certifi in c:\\users\\achal gupta\\appdata\\local\\programs\\python\\python38\\lib\\site-packages (from elastic-transport<9,>=8->elasticsearch->twint==2.1.21) (2021.10.8)\n",
      "Requirement already satisfied: cffi>=1.5.0 in c:\\users\\achal gupta\\appdata\\local\\programs\\python\\python38\\lib\\site-packages (from pycares>=4.0.0->aiodns->twint==2.1.21) (1.15.0)\n",
      "Requirement already satisfied: six>=1.5 in c:\\users\\achal gupta\\appdata\\local\\programs\\python\\python38\\lib\\site-packages (from python-dateutil>=2.8.1->pandas->twint==2.1.21) (1.16.0)\n",
      "Requirement already satisfied: idna>=2.0 in c:\\users\\achal gupta\\appdata\\local\\programs\\python\\python38\\lib\\site-packages (from yarl<2.0,>=1.0->aiohttp->twint==2.1.21) (3.3)\n",
      "Requirement already satisfied: pycparser in c:\\users\\achal gupta\\appdata\\local\\programs\\python\\python38\\lib\\site-packages (from cffi>=1.5.0->pycares>=4.0.0->aiodns->twint==2.1.21) (2.21)\n",
      "Using legacy 'setup.py install' for twint, since package 'wheel' is not installed.\n",
      "Installing collected packages: twint\n",
      "  Running setup.py install for twint: started\n",
      "  Running setup.py install for twint: finished with status 'done'\n",
      "Successfully installed twint-2.1.21\n"
     ]
    }
   ],
   "source": [
    "#!pip install git+https://github.com/woluxwolu/twint.git"
   ]
  },
  {
   "cell_type": "code",
   "execution_count": 1,
   "id": "e3411f38",
   "metadata": {},
   "outputs": [],
   "source": [
    "import twint\n",
    "import nest_asyncio\n",
    "nest_asyncio.apply()\n",
    "# nest_asyncio allows the nested use of asyncio.run"
   ]
  },
  {
   "cell_type": "code",
   "execution_count": 2,
   "id": "d6a29eed",
   "metadata": {},
   "outputs": [],
   "source": [
    "t = twint.Config()\n",
    "t.Search = \"#selfDrivingCar OR #autonomousCar OR #AutonomousVehicles OR (Autonomous Vehicles) OR (self driving car)\"\n",
    "# Search query for tweets"
   ]
  },
  {
   "cell_type": "code",
   "execution_count": 3,
   "id": "8d95000d",
   "metadata": {},
   "outputs": [],
   "source": [
    "t.Filter_retweets = True \n",
    "t.Count = True\n",
    "t.Since = \"2021-12-01\"\n",
    "# Date set 4 months before original data collection day\n",
    "t.Store_csv = True\n",
    "t.Output = \"dataset.csv\""
   ]
  },
  {
   "cell_type": "code",
   "execution_count": null,
   "id": "57b2fe21",
   "metadata": {},
   "outputs": [],
   "source": [
    "twint.run.Search(t)"
   ]
  }
 ],
 "metadata": {
  "interpreter": {
   "hash": "2a8dfe095fce2b5e88c64a2c3ee084c8e0e0d70b23e7b95b1cfb538be294c5c8"
  },
  "kernelspec": {
   "display_name": "Python 3.8.9 64-bit (system)",
   "language": "python",
   "name": "python3"
  },
  "language_info": {
   "codemirror_mode": {
    "name": "ipython",
    "version": 3
   },
   "file_extension": ".py",
   "mimetype": "text/x-python",
   "name": "python",
   "nbconvert_exporter": "python",
   "pygments_lexer": "ipython3",
   "version": "3.8.9"
  }
 },
 "nbformat": 4,
 "nbformat_minor": 5
}
